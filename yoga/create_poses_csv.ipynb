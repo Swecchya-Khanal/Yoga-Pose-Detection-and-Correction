{
 "cells": [
  {
   "cell_type": "code",
   "execution_count": 1,
   "metadata": {},
   "outputs": [],
   "source": [
    "import mediapipe as mp\n",
    "import pandas as pd\n",
    "import numpy as np\n",
    "import cv2\n",
    "import os"
   ]
  },
  {
   "cell_type": "code",
   "execution_count": 2,
   "metadata": {},
   "outputs": [],
   "source": [
    "mp_pose = mp.solutions.pose"
   ]
  },
  {
   "cell_type": "code",
   "execution_count": 3,
   "metadata": {},
   "outputs": [],
   "source": [
    "# Define landmark points\n",
    "landmarks_points = {\n",
    "    \"nose\": 0,\n",
    "    \"left_shoulder\": 11, \"right_shoulder\": 12,\n",
    "    \"left_elbow\": 13, \"right_elbow\": 14,\n",
    "    \"left_wrist\": 15, \"right_wrist\": 16,\n",
    "    \"left_hip\": 23, \"right_hip\": 24,\n",
    "    \"left_knee\": 25, \"right_knee\": 26,\n",
    "    \"left_ankle\": 27, \"right_ankle\": 28,\n",
    "    \"left_heel\": 29, \"right_heel\": 30,\n",
    "    \"left_foot_index\": 31, \"right_foot_index\": 32,\n",
    "}\n",
    "\n",
    "# Generate column names\n",
    "col_names = []\n",
    "for name in landmarks_points.keys():\n",
    "    col_names.extend([f\"{name}_x\", f\"{name}_y\", f\"{name}_z\", f\"{name}_v\"])\n",
    "\n",
    "pose_name = col_names + [\"pose\"]"
   ]
  },
  {
   "cell_type": "code",
   "execution_count": null,
   "metadata": {},
   "outputs": [
    {
     "name": "stdout",
     "output_type": "stream",
     "text": [
      "No pose landmarks detected in ./poses_dataset/Images/goddess/46.jpg\n"
     ]
    }
   ],
   "source": [
    "# Initialize lists\n",
    "pose_list = []\n",
    "main_dir = \"./poses_dataset/Images\"\n",
    "pose_dir_list = [d for d in os.listdir(main_dir) if os.path.isdir(os.path.join(main_dir, d))]\n",
    "\n",
    "# Process directories\n",
    "for i, pose_dir in enumerate(pose_dir_list):\n",
    "    images_dir_list = os.listdir(f\"{main_dir}/{pose_dir}\")\n",
    "    for image_file in images_dir_list:\n",
    "        pre_list = []\n",
    "        image_path = f\"{main_dir}/{pose_dir}/{image_file}\"\n",
    "        with mp_pose.Pose(static_image_mode=True, enable_segmentation=True) as pose:\n",
    "            image = cv2.imread(image_path)\n",
    "            if image is None:\n",
    "                print(f\"Could not read image: {image_path}\")\n",
    "                continue\n",
    "            result = pose.process(cv2.cvtColor(image, cv2.COLOR_BGR2RGB))\n",
    "\n",
    "            try:\n",
    "                for landmarks in result.pose_landmarks.landmark:\n",
    "                    pre_list.append(landmarks)\n",
    "            except AttributeError:\n",
    "                print(f\"No pose landmarks detected in {image_path}\")\n",
    "                continue\n",
    "\n",
    "        # If landmarks were detected\n",
    "        if pre_list:\n",
    "            gen1116 = np.array([\n",
    "                [pre_list[m].x, pre_list[m].y, pre_list[m].z, pre_list[m].visibility]\n",
    "                for m in range(11, 17)\n",
    "            ]).flatten().tolist()\n",
    "\n",
    "            gen2333 = np.array([\n",
    "                [pre_list[m].x, pre_list[m].y, pre_list[m].z, pre_list[m].visibility]\n",
    "                for m in range(23, 33)\n",
    "            ]).flatten().tolist()\n",
    "\n",
    "            all_list = [\n",
    "                pre_list[0].x, pre_list[0].y, pre_list[0].z, pre_list[0].visibility\n",
    "            ]\n",
    "            all_list.extend(gen1116 + gen2333)\n",
    "            all_list.append(i)\n",
    "\n",
    "            pose_list.append(all_list)\n",
    "\n",
    "# Save the data to a CSV\n",
    "data_pose = pd.DataFrame(pose_list, columns=pose_name)\n",
    "os.makedirs(\"./csv_files\", exist_ok=True)\n",
    "data_pose.to_csv(\"./csv_files/poses_data_pose.csv\", index=False)\n",
    "print(\"Pose data saved to ./csv_files/poses_data_pose.csv\")"
   ]
  },
  {
   "cell_type": "code",
   "execution_count": null,
   "metadata": {},
   "outputs": [],
   "source": []
  }
 ],
 "metadata": {
  "kernelspec": {
   "display_name": "Python 3 (ipykernel)",
   "language": "python",
   "name": "python3"
  },
  "language_info": {
   "codemirror_mode": {
    "name": "ipython",
    "version": 3
   },
   "file_extension": ".py",
   "mimetype": "text/x-python",
   "name": "python",
   "nbconvert_exporter": "python",
   "pygments_lexer": "ipython3",
   "version": "3.10.3"
  }
 },
 "nbformat": 4,
 "nbformat_minor": 4
}
